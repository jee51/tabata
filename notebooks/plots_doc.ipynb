{
 "cells": [
  {
   "cell_type": "markdown",
   "metadata": {},
   "source": [
    "# Des affichages utiles pour les DataFrames\n",
    "\n",
    "Quelques affichages avec des outils de sélection adaptés."
   ]
  },
  {
   "cell_type": "code",
   "execution_count": 1,
   "metadata": {},
   "outputs": [],
   "source": [
    "import numpy as np\n",
    "import pandas as pd\n",
    "import tabata as tbt"
   ]
  },
  {
   "cell_type": "code",
   "execution_count": 2,
   "metadata": {},
   "outputs": [],
   "source": [
    "%reload_ext autoreload\n",
    "%autoreload 2"
   ]
  },
  {
   "cell_type": "markdown",
   "metadata": {},
   "source": [
    "## Récupération d'un DataFrame exemple"
   ]
  },
  {
   "cell_type": "code",
   "execution_count": 3,
   "metadata": {},
   "outputs": [],
   "source": [
    "storename = \"data/in/AFL1EB.h5\"\n",
    "ds = tbt.Opset(storename)"
   ]
  },
  {
   "cell_type": "code",
   "execution_count": 4,
   "metadata": {},
   "outputs": [
    {
     "data": {
      "text/html": [
       "<div>\n",
       "<style scoped>\n",
       "    .dataframe tbody tr th:only-of-type {\n",
       "        vertical-align: middle;\n",
       "    }\n",
       "\n",
       "    .dataframe tbody tr th {\n",
       "        vertical-align: top;\n",
       "    }\n",
       "\n",
       "    .dataframe thead th {\n",
       "        text-align: right;\n",
       "    }\n",
       "</style>\n",
       "<table border=\"1\" class=\"dataframe\">\n",
       "  <thead>\n",
       "    <tr style=\"text-align: right;\">\n",
       "      <th></th>\n",
       "      <th>ALT[m]</th>\n",
       "      <th>Tisa[K]</th>\n",
       "      <th>TAS[m/s]</th>\n",
       "      <th>Vz[m/s]</th>\n",
       "      <th>Masse[kg]</th>\n",
       "      <th>F[N]</th>\n",
       "    </tr>\n",
       "    <tr>\n",
       "      <th>record_04</th>\n",
       "      <th></th>\n",
       "      <th></th>\n",
       "      <th></th>\n",
       "      <th></th>\n",
       "      <th></th>\n",
       "      <th></th>\n",
       "    </tr>\n",
       "  </thead>\n",
       "  <tbody>\n",
       "    <tr>\n",
       "      <th>2012-08-03 01:24:00</th>\n",
       "      <td>-7.607808</td>\n",
       "      <td>830.008941</td>\n",
       "      <td>0.0</td>\n",
       "      <td>-5.884575e-16</td>\n",
       "      <td>14637.674998</td>\n",
       "      <td>0.0</td>\n",
       "    </tr>\n",
       "    <tr>\n",
       "      <th>2012-08-03 01:24:01</th>\n",
       "      <td>-7.607808</td>\n",
       "      <td>830.008941</td>\n",
       "      <td>0.0</td>\n",
       "      <td>-5.631412e-16</td>\n",
       "      <td>14637.674998</td>\n",
       "      <td>0.0</td>\n",
       "    </tr>\n",
       "    <tr>\n",
       "      <th>2012-08-03 01:24:02</th>\n",
       "      <td>-7.607808</td>\n",
       "      <td>830.008941</td>\n",
       "      <td>0.0</td>\n",
       "      <td>-5.378249e-16</td>\n",
       "      <td>14637.674998</td>\n",
       "      <td>0.0</td>\n",
       "    </tr>\n",
       "    <tr>\n",
       "      <th>2012-08-03 01:24:03</th>\n",
       "      <td>-7.607808</td>\n",
       "      <td>830.008941</td>\n",
       "      <td>0.0</td>\n",
       "      <td>-5.125086e-16</td>\n",
       "      <td>14637.674998</td>\n",
       "      <td>0.0</td>\n",
       "    </tr>\n",
       "    <tr>\n",
       "      <th>2012-08-03 01:24:04</th>\n",
       "      <td>-7.607808</td>\n",
       "      <td>830.008941</td>\n",
       "      <td>0.0</td>\n",
       "      <td>-4.871922e-16</td>\n",
       "      <td>14637.674998</td>\n",
       "      <td>0.0</td>\n",
       "    </tr>\n",
       "  </tbody>\n",
       "</table>\n",
       "</div>"
      ],
      "text/plain": [
       "                       ALT[m]     Tisa[K]  TAS[m/s]       Vz[m/s]  \\\n",
       "record_04                                                           \n",
       "2012-08-03 01:24:00 -7.607808  830.008941       0.0 -5.884575e-16   \n",
       "2012-08-03 01:24:01 -7.607808  830.008941       0.0 -5.631412e-16   \n",
       "2012-08-03 01:24:02 -7.607808  830.008941       0.0 -5.378249e-16   \n",
       "2012-08-03 01:24:03 -7.607808  830.008941       0.0 -5.125086e-16   \n",
       "2012-08-03 01:24:04 -7.607808  830.008941       0.0 -4.871922e-16   \n",
       "\n",
       "                        Masse[kg]  F[N]  \n",
       "record_04                                \n",
       "2012-08-03 01:24:00  14637.674998   0.0  \n",
       "2012-08-03 01:24:01  14637.674998   0.0  \n",
       "2012-08-03 01:24:02  14637.674998   0.0  \n",
       "2012-08-03 01:24:03  14637.674998   0.0  \n",
       "2012-08-03 01:24:04  14637.674998   0.0  "
      ]
     },
     "execution_count": 4,
     "metadata": {},
     "output_type": "execute_result"
    }
   ],
   "source": [
    "df = ds[4]\n",
    "df.head()"
   ]
  },
  {
   "cell_type": "markdown",
   "metadata": {},
   "source": [
    "## Affichage simplifié des DataFrames\n",
    "Deux fonction simplifient l'affichage d'un opset.\n",
    "\n",
    "* `selplot(df,[variable])`affiche un DataFrame variable par variable.\n",
    "* `byunitplot(df,[yunit],[xunit],[title])` affiche le DataFrame en sélectionnant les variables, unité par unité sur le même graphe.\n",
    "* `groupplot(df,standardize)` superposition de courbes.\n",
    "* `doubleplot(df1,df2|col)` affichage lié de deux graphes empilés."
   ]
  },
  {
   "cell_type": "markdown",
   "metadata": {},
   "source": [
    "### Affichage des courbes une à une.\n",
    "On peut préciser une partie du nom de la variable."
   ]
  },
  {
   "cell_type": "code",
   "execution_count": 5,
   "metadata": {},
   "outputs": [],
   "source": [
    "import plotly.io as pio"
   ]
  },
  {
   "cell_type": "code",
   "execution_count": 6,
   "metadata": {},
   "outputs": [
    {
     "data": {
      "text/plain": [
       "Renderers configuration\n",
       "-----------------------\n",
       "    Default renderer: 'vscode'\n",
       "    Available renderers:\n",
       "        ['plotly_mimetype', 'jupyterlab', 'nteract', 'vscode',\n",
       "         'notebook', 'notebook_connected', 'kaggle', 'azure', 'colab',\n",
       "         'cocalc', 'databricks', 'json', 'png', 'jpeg', 'jpg', 'svg',\n",
       "         'pdf', 'browser', 'firefox', 'chrome', 'chromium', 'iframe',\n",
       "         'iframe_connected', 'sphinx_gallery', 'sphinx_gallery_png']"
      ]
     },
     "execution_count": 6,
     "metadata": {},
     "output_type": "execute_result"
    }
   ],
   "source": [
    "pio.renderers"
   ]
  },
  {
   "cell_type": "code",
   "execution_count": 11,
   "metadata": {},
   "outputs": [
    {
     "data": {
      "application/vnd.jupyter.widget-view+json": {
       "model_id": "94db1f7ed61a428181ce47bc3cd16d96",
       "version_major": 2,
       "version_minor": 0
      },
      "text/plain": [
       "VBox(children=(interactive(children=(Dropdown(description='Variable :', index=3, options=('ALT[m]', 'Tisa[K]',…"
      ]
     },
     "execution_count": 11,
     "metadata": {},
     "output_type": "execute_result"
    }
   ],
   "source": [
    "b = tbt.selplot(df,\"V\")\n",
    "b"
   ]
  },
  {
   "cell_type": "code",
   "execution_count": 10,
   "metadata": {},
   "outputs": [
    {
     "data": {
      "application/vnd.jupyter.widget-view+json": {
       "model_id": "ca63fd5315ab4fbfae9c1ecae7ca50ae",
       "version_major": 2,
       "version_minor": 0
      },
      "text/plain": [
       "VBox(children=(interactive(children=(Dropdown(description='Variable :', index=3, options=('ALT[m]', 'Tisa[K]',…"
      ]
     },
     "execution_count": 10,
     "metadata": {},
     "output_type": "execute_result"
    }
   ],
   "source": [
    "b"
   ]
  },
  {
   "cell_type": "code",
   "execution_count": null,
   "metadata": {},
   "outputs": [],
   "source": [
    "tbt.selplotc(df,\"V\")"
   ]
  },
  {
   "cell_type": "markdown",
   "metadata": {},
   "source": [
    "### Affichage par unité"
   ]
  },
  {
   "cell_type": "code",
   "execution_count": null,
   "metadata": {},
   "outputs": [],
   "source": [
    "tbt.byunitplot(df,'m/s')"
   ]
  },
  {
   "cell_type": "markdown",
   "metadata": {},
   "source": [
    "### Affichage de toutes les variables sur le même axe."
   ]
  },
  {
   "cell_type": "code",
   "execution_count": null,
   "metadata": {},
   "outputs": [],
   "source": [
    "tbt.groupplot(df,standardize=True)"
   ]
  },
  {
   "cell_type": "markdown",
   "metadata": {},
   "source": [
    "### Affichage superposé de deux sous-graphes liés"
   ]
  },
  {
   "cell_type": "code",
   "execution_count": null,
   "metadata": {},
   "outputs": [],
   "source": [
    "tbt.doubleplot(df,'ALT',0.3,title=\"Simple double plot\")"
   ]
  },
  {
   "cell_type": "code",
   "execution_count": null,
   "metadata": {},
   "outputs": [],
   "source": [
    "tbt.doubleplot(df[['ALT[m]']],df[['TAS[m/s]','Vz[m/s]']],title=\"Double plot\")"
   ]
  },
  {
   "cell_type": "markdown",
   "metadata": {},
   "source": [
    "## Affichage temporel\n",
    "Cet affichage permet d'observer une partie du signal assez facilement et offre des options de zoom rapides."
   ]
  },
  {
   "cell_type": "code",
   "execution_count": null,
   "metadata": {},
   "outputs": [],
   "source": [
    "tbt.tsplot(df,'ALT',\"Altitude\")"
   ]
  },
  {
   "cell_type": "markdown",
   "metadata": {},
   "source": [
    "## Analyse en composantes principales\n",
    "L'idée est d'afficher les poids des variables dans le cercle défini par deux composantes principales.\n",
    "\n",
    "* Le second paramètre de la fonction est soit None, soit une pca établie sur des données standardisées.\n",
    "* Le troisième paramètre, vaut 0 par défaut, mais s'il est positif et entre 0 et 1, alors un échantillonnage de données est affiché en superposition du graphique."
   ]
  },
  {
   "cell_type": "code",
   "execution_count": null,
   "metadata": {},
   "outputs": [],
   "source": [
    "tbt.pcacircle(df,None,0.5)"
   ]
  },
  {
   "cell_type": "markdown",
   "metadata": {},
   "source": [
    "_Jérôme Lacaille (YOR)_"
   ]
  },
  {
   "cell_type": "markdown",
   "metadata": {},
   "source": []
  }
 ],
 "metadata": {
  "kernelspec": {
   "display_name": "wrk13",
   "language": "python",
   "name": "python3"
  },
  "language_info": {
   "codemirror_mode": {
    "name": "ipython",
    "version": 3
   },
   "file_extension": ".py",
   "mimetype": "text/x-python",
   "name": "python",
   "nbconvert_exporter": "python",
   "pygments_lexer": "ipython3",
   "version": "3.13.1"
  },
  "widgets": {
   "application/vnd.jupyter.widget-state+json": {
    "state": {},
    "version_major": 2,
    "version_minor": 0
   }
  }
 },
 "nbformat": 4,
 "nbformat_minor": 4
}
